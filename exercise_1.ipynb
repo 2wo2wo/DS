{
 "cells": [
  {
   "cell_type": "markdown",
   "id": "506893ac",
   "metadata": {},
   "source": [
    "# Data Science I\n",
    "\n",
    "## Exercise 1: Getting Started With Python & Jupyter Notebooks\n",
    "<div style=\"position: relative;\">\n",
    "    <div style=\"position: absolute; top: -90px; right: 10px; padding: 5px; background-color: #ddd; border-radius: 5px; font-size: 20px; border: 1px solid black; text-align: right;\">\n",
    "        <span style=\"font-weight: bold;\">Overall Points: &nbsp;&nbsp;&nbsp;&nbsp;&nbsp; / 100</span>\n",
    "</div>\n",
    "<span style=\"font-weight: bold; text-decoration: underline;\">Submission Deadline: April 10 2024, 07:00 UTC</span>\n",
    "    \n",
    "**University of Oldenburg**<br/>\n",
    "**Summer 2024**<br/>\n",
    "**Instructors**: [Maria Fernanda \"MaFe\" Davila Restrepo](https://uol.de/mafe), [Wolfram \"Wolle\" Wingerath](https://uol.de/wolle)\n",
    "\n",
    "<span style=\"font-weight: bold; \">Submitted by: <span style=\"color: red;\">&lt;your names here&gt;</span>\n",
    "\n",
    "---"
   ]
  },
  {
   "cell_type": "markdown",
   "id": "5b014944",
   "metadata": {},
   "source": [
    "# Intro\n",
    "\n",
    "Hey there, we are glad you are interested in data science!\n",
    "\n",
    "These exercises are designed to support the lectures by letting you apply some of the ideas we cover to actual data. However, we deliberately do not saturate your schedule with our assignments, because data science is all about exploration and we want you to have time for picking up challenges on your own. So please feel free to look up interesting data sets and analyze them when you have the time! \n",
    "\n",
    "We think discussion is the best way to learn and therefore encourage you to hand in your solutions and present them in our exercise sessions (every second Wednesday, starting in Week 2). Please work in groups of 2 to 3 and upload your submissions no later than Monday 7:00 UTC in the week of the next exercise session. We chose this deadline to make sure that we have the time to actually look at your submissions before we meet for discussion. We will mark your submissions and make the number of achieved bonus points available online in Stud.IP, but please note that we will not give you back the corrected submissions: If you have questions on how your grading, please visit the Wednesday session and ask questions! 😉\n",
    "\n",
    "We hope you have fun and learn something!"
   ]
  },
  {
   "cell_type": "markdown",
   "id": "272e3873",
   "metadata": {},
   "source": [
    "# Part 1: Intro to Python & Jupyter\n",
    "<div style=\"position: relative;\">\n",
    "    <div style=\"position: absolute; top: -45px; right: 10px; padding: 5px; background-color: #ddd; border-radius: 5px; font-size: 20px; border: 1px solid black; text-align: right;\">\n",
    "        <span style=\"\">&nbsp;&nbsp;&nbsp;&nbsp;&nbsp; / 30</span>\n",
    "    </div>\n",
    "</div>\n",
    "\n",
    "In the first exercise sheet, you will get an introduction to Python and Jupyter Notebooks, how to load and manipulate data, and how to a simple plot to visualize your findings. But first things first."
   ]
  },
  {
   "cell_type": "markdown",
   "id": "8708aa27",
   "metadata": {},
   "source": [
    "1.) Install Jupyter Notebook on your computer if it is not already installed. You can download and install Anaconda, which includes Jupyter Notebook, from the following website: https://www.anaconda.com/products/individual"
   ]
  },
  {
   "cell_type": "markdown",
   "id": "7f476928",
   "metadata": {},
   "source": [
    "2.) You are probably looking at a PDF document right now, but we will be working with notebook files from here on. So please open the `.ipynb` file we provided in Jupyter Notebook and continue working from there. "
   ]
  },
  {
   "cell_type": "markdown",
   "id": "71daec3a",
   "metadata": {},
   "source": [
    "3.) In today's exercise, we will be looking at a data set on dinosaurs, because dinosaurs are awesome. So please create a new Markdown cell and write a short statement on your favorite dinosaur.  \n",
    "Example:\n",
    "```markdown\n",
    "# The Best Dinosaur in the World\n",
    "We are MaFe and Wolle and we could not yet agree on what the most awesome dinosaur was. But we agreed that, going by its name, [dreadnoughtus](https://en.wikipedia.org/wiki/Dreadnoughtus) must have been pretty awesome!\n",
    "```"
   ]
  },
  {
   "cell_type": "markdown",
   "id": "63cc9012",
   "metadata": {},
   "source": [
    "4.) Now lets change the name of the file you are working in to make it unique for your group. To generate a file name, execute the two code cells below by marking them and either clicking the run button at the top or by pressing `ctrl-enter`.  \n",
    "You should get the following as output: \n",
    "```\n",
    "exercise_1_davila_wingerath\n",
    "```"
   ]
  },
  {
   "cell_type": "code",
   "execution_count": null,
   "id": "3bdeacfd",
   "metadata": {},
   "outputs": [],
   "source": [
    "# provide last names of your group members\n",
    "last_names = [\"Davila\", \"Wingerath\"]\n",
    "exercise_sheet = 1"
   ]
  },
  {
   "cell_type": "code",
   "execution_count": null,
   "id": "cef1e467",
   "metadata": {},
   "outputs": [],
   "source": [
    "# generate file name for your submission\n",
    "last_names = [name.lower() for name in last_names]\n",
    "last_names.sort()\n",
    "last_name_str = '_'.join(last_names)\n",
    "\n",
    "print(f\"exercise_{exercise_sheet}_{last_name_str}\")"
   ]
  },
  {
   "cell_type": "markdown",
   "id": "e87e990d",
   "metadata": {},
   "source": [
    "5.) Obviously, this does not reflect your group members, so please update the code cell with the variable `last_names` according to the names of your group members and execute the code for name generation again. Then rename your notebook file using the name you just generated. While you are at it, please also update the \"Submitted by\" entry at the top of the file with the names of your group members."
   ]
  },
  {
   "cell_type": "markdown",
   "id": "cc4c7a47",
   "metadata": {},
   "source": [
    "6.) To avoid losing all your data (like it may or may not have happened to us the first time we created this assignment sheet 😅), click on \"File\" in the menu bar and select \"Save and Checkpoint\". Then, close Jupyter Notebook by clicking on the \"Logout\" / \"Quit\" button in the upper-right corner and reopen it. If everything worked fine, go to the next task. If everything is gone, please start all over 😉"
   ]
  },
  {
   "cell_type": "markdown",
   "id": "95fcd255",
   "metadata": {},
   "source": [
    "7.) We'd like you to submit both PDF and notebook files for your exercises. To enable PDF export, please install the `nbconvert` and `pyppeteer` libraries. You can do so via commandline, but you can also do this from within this notebook like so:  \n",
    "```\n",
    "!pip install <library>\n",
    "```"
   ]
  },
  {
   "cell_type": "code",
   "execution_count": null,
   "id": "e41cb0c1",
   "metadata": {},
   "outputs": [],
   "source": [
    "# install nbconvert\n",
    "<your code here>"
   ]
  },
  {
   "cell_type": "code",
   "execution_count": null,
   "id": "db5dc229",
   "metadata": {},
   "outputs": [],
   "source": [
    "# install pyppeteer\n",
    "<your code here>"
   ]
  },
  {
   "cell_type": "markdown",
   "id": "f2f6d5e6",
   "metadata": {},
   "source": [
    "8.) Assuming everything went right, you are now able to generate a PDF file from your notebook using the following command:  \n",
    "```\n",
    "!jupyter nbconvert --to webpdf --allow-chromium-download <file-name>.ipynb\n",
    "```\n",
    "**Note**: This command may take a while when running for the first time. Also, we recommend using a chromium-based browser. "
   ]
  },
  {
   "cell_type": "code",
   "execution_count": null,
   "id": "c49a910d",
   "metadata": {
    "scrolled": true
   },
   "outputs": [],
   "source": [
    "# generate PDF:\n",
    "<your code here>"
   ]
  },
  {
   "cell_type": "markdown",
   "id": "5769d431",
   "metadata": {},
   "source": [
    "# Part 2: Loading and Working With Data\n",
    "<div style=\"position: relative;\">\n",
    "    <div style=\"position: absolute; top: -45px; right: 10px; padding: 5px; background-color: #ddd; border-radius: 5px; font-size: 20px; border: 1px solid black; text-align: right;\">\n",
    "        <span style=\"\">&nbsp;&nbsp;&nbsp;&nbsp;&nbsp; / 30</span>\n",
    "    </div>\n",
    "</div>\n",
    "\n",
    "In the next part, you will learn how to load and work with data by using a small data set on dinosaurs."
   ]
  },
  {
   "cell_type": "markdown",
   "id": "3f296748",
   "metadata": {},
   "source": [
    "1.) Lets start by importing a few libraries that we are going to use:"
   ]
  },
  {
   "cell_type": "code",
   "execution_count": null,
   "id": "68cea6ad",
   "metadata": {},
   "outputs": [],
   "source": [
    "# Import libraries\n",
    "import pandas as pd"
   ]
  },
  {
   "cell_type": "markdown",
   "id": "de21b189",
   "metadata": {},
   "source": [
    "2.) Now download our dino data set from https://raw.githubusercontent.com/kjanjua26/jurassic-park/main/data/data.csv and put it in the same directory as your notebook file. Next, load the data into a data frame using the <a href=\"https://pandas.pydata.org/pandas-docs/stable/reference/api/pandas.read_csv.html\" target=\"_blank\">read_csv function</a> from the pandas library and inspect the structure of the data set by playing around with the data frame (see this [cheatsheet](https://res.cloudinary.com/dyd911kmh/image/upload/v1676302204/Marketing/Blog/Pandas_Cheat_Sheet.pdf) for more info on working with pandas)."
   ]
  },
  {
   "cell_type": "code",
   "execution_count": null,
   "id": "5b5c71c0",
   "metadata": {},
   "outputs": [],
   "source": [
    "# read the data from the CSV file you downloaded\n",
    "dinosaurs = <your code here>"
   ]
  },
  {
   "cell_type": "code",
   "execution_count": null,
   "id": "a3ecd34d",
   "metadata": {},
   "outputs": [],
   "source": [
    "# take a quick look at the data (example functions: head, tail, sample)\n",
    "<your code here>"
   ]
  },
  {
   "cell_type": "code",
   "execution_count": null,
   "id": "138fc94d",
   "metadata": {},
   "outputs": [],
   "source": [
    "# look at some statistical information on the different attributes using the describe function\n",
    "<your code here>"
   ]
  },
  {
   "cell_type": "markdown",
   "id": "503abc3d",
   "metadata": {},
   "source": [
    "3.) Now that you have an idea of how the data looks, try to answer a few questions:"
   ]
  },
  {
   "cell_type": "code",
   "execution_count": null,
   "id": "7dc857af",
   "metadata": {},
   "outputs": [],
   "source": [
    "# Is your favorite dinosaur captured in the data set? \n",
    "# (Hint: You can use the query function to filter the data by name.)\n",
    "<your code here>"
   ]
  },
  {
   "cell_type": "code",
   "execution_count": null,
   "id": "ae2557c4",
   "metadata": {},
   "outputs": [],
   "source": [
    "# How many dinosaurs are recorded for each individual diet?\n",
    "# (Hint: You can use the groupby function)\n",
    "<your code here>"
   ]
  },
  {
   "cell_type": "code",
   "execution_count": null,
   "id": "db86f4a7",
   "metadata": {},
   "outputs": [],
   "source": [
    "# Try sorting the data set by length to get the longest dinosaur. \n",
    "<your code here>"
   ]
  },
  {
   "cell_type": "markdown",
   "id": "c84e349e",
   "metadata": {},
   "source": [
    "4.) You may have noticed that the length attribute is not a numerical type, so that the `length` attribute has only limited use as a sorting key or in computations. Create a new attribute `length_in_meters` to fix this problem. When you have done that, answer a few more questions."
   ]
  },
  {
   "cell_type": "code",
   "execution_count": null,
   "id": "0aba1275",
   "metadata": {},
   "outputs": [],
   "source": [
    "# Add a new column length_in_meters with data type float by parsing the meter value from the length attribute\n",
    "<your code here>"
   ]
  },
  {
   "cell_type": "code",
   "execution_count": null,
   "id": "c9f80567",
   "metadata": {},
   "outputs": [],
   "source": [
    "# Now try finding the dinosaur with the biggest record at length again, this time by sorting by the new attribute!\n",
    "<your code here>"
   ]
  },
  {
   "cell_type": "code",
   "execution_count": null,
   "id": "39f00971",
   "metadata": {},
   "outputs": [],
   "source": [
    "# Now compute the maximum recorded length per diet, similar to the groupby analysis above\n",
    "<your code here>"
   ]
  },
  {
   "cell_type": "markdown",
   "id": "c1b58f0b",
   "metadata": {},
   "source": [
    "5.) Finally, visualize how many dinosaurs we have in the data set and how big they are: "
   ]
  },
  {
   "cell_type": "code",
   "execution_count": null,
   "id": "fd516da6",
   "metadata": {},
   "outputs": [],
   "source": [
    "# Create a histogram plot with length_in_meters on the x-axis and the number of dinosaurs with that length on the y-axis:\n",
    "<your code here>"
   ]
  },
  {
   "cell_type": "markdown",
   "id": "324d840f",
   "metadata": {},
   "source": [
    "Congratulations! You have done an analysis on dinosaurs!🦖"
   ]
  },
  {
   "cell_type": "markdown",
   "id": "662b752d",
   "metadata": {},
   "source": [
    "# Part 3: Find & Analyze a Data Set!\n",
    "<div style=\"position: relative;\">\n",
    "    <div style=\"position: absolute; top: -45px; right: 10px; padding: 5px; background-color: #ddd; border-radius: 5px; font-size: 20px; border: 1px solid black; text-align: right;\">\n",
    "        <span style=\"\">&nbsp;&nbsp;&nbsp;&nbsp;&nbsp; / 40</span>\n",
    "    </div>\n",
    "</div>\n",
    "\n",
    "Now that you can access data sets and do basic analyses, look up a data set yourself and find out something that might be of interest to somebody. Depending on the kind of data that you are looking at, you probably won't do the exact same analysis like we did for the dinosaur data set. But perhaps it serves you as an inspiration on how you could approach this analysis task. \n",
    "\n",
    "If you don't know where to look for interesting data sets, you can try out the following sources:\n",
    "- [Kaggle](https://www.kaggle.com/datasets)\n",
    "- [GovData](https://www.govdata.de/web/guest/suchen/-/searchresult/f/type%3Adataset%2C)\n",
    "- [Statistisches Bundesamt (Federal Statistical Office of Germany)](https://www.destatis.de/DE/Service/OpenData/_inhalt.html)\n",
    "\n",
    "**Note**: Targeting a data set that helps you in your project report might save you some work later 😉"
   ]
  },
  {
   "cell_type": "markdown",
   "id": "c001c2b3",
   "metadata": {},
   "source": [
    "1.) Please describe what data set you chose and what kind of information it contains. (Please provide a brief description and the code for loading your data.)"
   ]
  },
  {
   "cell_type": "markdown",
   "id": "0e2d9b6e",
   "metadata": {},
   "source": [
    "2.) Ask and answer at least 3 questions about the data set."
   ]
  },
  {
   "cell_type": "markdown",
   "id": "4382e58c",
   "metadata": {},
   "source": [
    "3.) Please create a plot that illustrates something you learned from the data analysis."
   ]
  },
  {
   "cell_type": "markdown",
   "id": "f11e845d",
   "metadata": {},
   "source": [
    "4.) Save your notebook and submit it (as both notebook and PDF file) along with the data that you downloaded.  \n",
    "Please make sure to **include the execution output in your submission**!"
   ]
  }
 ],
 "metadata": {
  "kernelspec": {
   "display_name": "Python 3 (ipykernel)",
   "language": "python",
   "name": "python3"
  },
  "language_info": {
   "codemirror_mode": {
    "name": "ipython",
    "version": 3
   },
   "file_extension": ".py",
   "mimetype": "text/x-python",
   "name": "python",
   "nbconvert_exporter": "python",
   "pygments_lexer": "ipython3",
   "version": "3.10.9"
  }
 },
 "nbformat": 4,
 "nbformat_minor": 5
}
